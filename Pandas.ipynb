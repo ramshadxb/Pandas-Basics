{
 "cells": [
  {
   "cell_type": "code",
   "execution_count": 1,
   "id": "61abebeb-23aa-4e37-981a-a52c35c103c6",
   "metadata": {},
   "outputs": [],
   "source": [
    "import pandas as pd"
   ]
  },
  {
   "cell_type": "code",
   "execution_count": 10,
   "id": "9271da33-982d-4f59-8112-47b469a42071",
   "metadata": {},
   "outputs": [],
   "source": [
    "data = {\n",
    "\n",
    "    'Name':['Shafeen','Shaziya','Qassim','Arbaz','Bhakti','Imran','Soumya','Uday','Sudarshan','Kiran','Keethana','Likhita'],\n",
    "    'Marks':[80,90,85,70,75,95,100,50,55,60,88,90],\n",
    "    'Grade':['A','A+','A','B','B+','A+','A+','C','C','C+','A','A+']\n",
    "}\n",
    "\n",
    "df = pd.DataFrame(data)"
   ]
  },
  {
   "cell_type": "code",
   "execution_count": 11,
   "id": "59f24d20-9da2-482f-bcfb-d7d9f82f4eed",
   "metadata": {},
   "outputs": [
    {
     "name": "stdout",
     "output_type": "stream",
     "text": [
      "         Name  Marks Grade\n",
      "0     Shafeen     80     A\n",
      "1     Shaziya     90    A+\n",
      "2      Qassim     85     A\n",
      "3       Arbaz     70     B\n",
      "4      Bhakti     75    B+\n",
      "5       Imran     95    A+\n",
      "6      Soumya    100    A+\n",
      "7        Uday     50     C\n",
      "8   Sudarshan     55     C\n",
      "9       Kiran     60    C+\n",
      "10   Keethana     88     A\n",
      "11    Likhita     90    A+\n"
     ]
    }
   ],
   "source": [
    "print(df)"
   ]
  },
  {
   "cell_type": "code",
   "execution_count": 12,
   "id": "e86f24a0-4a67-427e-b76f-ab53c4028c2c",
   "metadata": {},
   "outputs": [],
   "source": [
    "# Create a dataframe of employees with columns: Name, Designation, Department, Salary. Make 8 rows.\n",
    "\n",
    "employee = {\n",
    "\n",
    "    'Name':['Shafeen','Shaziya','Qassim','Arbaz','Bhakti','Imran','Soumya','Uday','Sudarshan','Kiran'],\n",
    "    'Designation':['IT Analyst','HR Manager','Network Admin','Software Developer','Data Analyst','Web Developer','Data Scientist','Finance Head',\n",
    "   'App Developer','AI Analyst' ],\n",
    "    'Department':['IT','HR','IT','Software','Data','Software','Data','Finance','Software','AI'],\n",
    "    'Salary':[45000,50000,60000,65000,70000,75000,80000,85000,90000,95000]\n",
    "}\n",
    "\n",
    "df = pd.DataFrame(employee)"
   ]
  },
  {
   "cell_type": "code",
   "execution_count": 13,
   "id": "1f0b7e05-a490-4d99-910f-ccdbda72021c",
   "metadata": {},
   "outputs": [
    {
     "name": "stdout",
     "output_type": "stream",
     "text": [
      "        Name         Designation Department  Salary\n",
      "0    Shafeen          IT Analyst         IT   45000\n",
      "1    Shaziya          HR Manager         HR   50000\n",
      "2     Qassim       Network Admin         IT   60000\n",
      "3      Arbaz  Software Developer   Software   65000\n",
      "4     Bhakti        Data Analyst       Data   70000\n",
      "5      Imran       Web Developer   Software   75000\n",
      "6     Soumya      Data Scientist       Data   80000\n",
      "7       Uday        Finance Head    Finance   85000\n",
      "8  Sudarshan       App Developer   Software   90000\n",
      "9      Kiran          AI Analyst         AI   95000\n"
     ]
    }
   ],
   "source": [
    "print(df)"
   ]
  },
  {
   "cell_type": "code",
   "execution_count": 15,
   "id": "1414f914-e9a5-452b-96a7-13d8a2e0f201",
   "metadata": {},
   "outputs": [
    {
     "data": {
      "text/html": [
       "<div>\n",
       "<style scoped>\n",
       "    .dataframe tbody tr th:only-of-type {\n",
       "        vertical-align: middle;\n",
       "    }\n",
       "\n",
       "    .dataframe tbody tr th {\n",
       "        vertical-align: top;\n",
       "    }\n",
       "\n",
       "    .dataframe thead th {\n",
       "        text-align: right;\n",
       "    }\n",
       "</style>\n",
       "<table border=\"1\" class=\"dataframe\">\n",
       "  <thead>\n",
       "    <tr style=\"text-align: right;\">\n",
       "      <th></th>\n",
       "      <th>Name</th>\n",
       "      <th>Designation</th>\n",
       "      <th>Department</th>\n",
       "      <th>Salary</th>\n",
       "    </tr>\n",
       "  </thead>\n",
       "  <tbody>\n",
       "    <tr>\n",
       "      <th>0</th>\n",
       "      <td>Shafeen</td>\n",
       "      <td>IT Analyst</td>\n",
       "      <td>IT</td>\n",
       "      <td>45000</td>\n",
       "    </tr>\n",
       "  </tbody>\n",
       "</table>\n",
       "</div>"
      ],
      "text/plain": [
       "      Name Designation Department  Salary\n",
       "0  Shafeen  IT Analyst         IT   45000"
      ]
     },
     "execution_count": 15,
     "metadata": {},
     "output_type": "execute_result"
    }
   ],
   "source": [
    "df.head(1)"
   ]
  },
  {
   "cell_type": "code",
   "execution_count": 18,
   "id": "2d6fbc38-e75e-4e24-a936-244aa8b5b112",
   "metadata": {},
   "outputs": [
    {
     "data": {
      "text/html": [
       "<div>\n",
       "<style scoped>\n",
       "    .dataframe tbody tr th:only-of-type {\n",
       "        vertical-align: middle;\n",
       "    }\n",
       "\n",
       "    .dataframe tbody tr th {\n",
       "        vertical-align: top;\n",
       "    }\n",
       "\n",
       "    .dataframe thead th {\n",
       "        text-align: right;\n",
       "    }\n",
       "</style>\n",
       "<table border=\"1\" class=\"dataframe\">\n",
       "  <thead>\n",
       "    <tr style=\"text-align: right;\">\n",
       "      <th></th>\n",
       "      <th>Name</th>\n",
       "      <th>Designation</th>\n",
       "      <th>Department</th>\n",
       "      <th>Salary</th>\n",
       "    </tr>\n",
       "  </thead>\n",
       "  <tbody>\n",
       "    <tr>\n",
       "      <th>9</th>\n",
       "      <td>Kiran</td>\n",
       "      <td>AI Analyst</td>\n",
       "      <td>AI</td>\n",
       "      <td>95000</td>\n",
       "    </tr>\n",
       "  </tbody>\n",
       "</table>\n",
       "</div>"
      ],
      "text/plain": [
       "    Name Designation Department  Salary\n",
       "9  Kiran  AI Analyst         AI   95000"
      ]
     },
     "execution_count": 18,
     "metadata": {},
     "output_type": "execute_result"
    }
   ],
   "source": [
    "df.tail(1)"
   ]
  },
  {
   "cell_type": "code",
   "execution_count": 19,
   "id": "8234f44d-8be4-46c6-a6d0-eb9222502d50",
   "metadata": {},
   "outputs": [
    {
     "data": {
      "text/plain": [
       "(10, 4)"
      ]
     },
     "execution_count": 19,
     "metadata": {},
     "output_type": "execute_result"
    }
   ],
   "source": [
    "df.shape"
   ]
  },
  {
   "cell_type": "code",
   "execution_count": 20,
   "id": "3e59e9ba-25ea-4a87-b0e1-6ec9dd343bb9",
   "metadata": {},
   "outputs": [
    {
     "data": {
      "text/plain": [
       "Index(['Name', 'Designation', 'Department', 'Salary'], dtype='object')"
      ]
     },
     "execution_count": 20,
     "metadata": {},
     "output_type": "execute_result"
    }
   ],
   "source": [
    "df.columns"
   ]
  },
  {
   "cell_type": "code",
   "execution_count": 21,
   "id": "0a3c9d9d-c339-4b84-8d5e-5191830da538",
   "metadata": {},
   "outputs": [
    {
     "name": "stdout",
     "output_type": "stream",
     "text": [
      "<class 'pandas.core.frame.DataFrame'>\n",
      "RangeIndex: 10 entries, 0 to 9\n",
      "Data columns (total 4 columns):\n",
      " #   Column       Non-Null Count  Dtype \n",
      "---  ------       --------------  ----- \n",
      " 0   Name         10 non-null     object\n",
      " 1   Designation  10 non-null     object\n",
      " 2   Department   10 non-null     object\n",
      " 3   Salary       10 non-null     int64 \n",
      "dtypes: int64(1), object(3)\n",
      "memory usage: 452.0+ bytes\n"
     ]
    }
   ],
   "source": [
    "df.info()"
   ]
  },
  {
   "cell_type": "code",
   "execution_count": 22,
   "id": "27f8a341-00c8-4f3f-93ba-470995ca34d0",
   "metadata": {},
   "outputs": [
    {
     "data": {
      "text/html": [
       "<div>\n",
       "<style scoped>\n",
       "    .dataframe tbody tr th:only-of-type {\n",
       "        vertical-align: middle;\n",
       "    }\n",
       "\n",
       "    .dataframe tbody tr th {\n",
       "        vertical-align: top;\n",
       "    }\n",
       "\n",
       "    .dataframe thead th {\n",
       "        text-align: right;\n",
       "    }\n",
       "</style>\n",
       "<table border=\"1\" class=\"dataframe\">\n",
       "  <thead>\n",
       "    <tr style=\"text-align: right;\">\n",
       "      <th></th>\n",
       "      <th>Salary</th>\n",
       "    </tr>\n",
       "  </thead>\n",
       "  <tbody>\n",
       "    <tr>\n",
       "      <th>count</th>\n",
       "      <td>10.000000</td>\n",
       "    </tr>\n",
       "    <tr>\n",
       "      <th>mean</th>\n",
       "      <td>71500.000000</td>\n",
       "    </tr>\n",
       "    <tr>\n",
       "      <th>std</th>\n",
       "      <td>16674.997918</td>\n",
       "    </tr>\n",
       "    <tr>\n",
       "      <th>min</th>\n",
       "      <td>45000.000000</td>\n",
       "    </tr>\n",
       "    <tr>\n",
       "      <th>25%</th>\n",
       "      <td>61250.000000</td>\n",
       "    </tr>\n",
       "    <tr>\n",
       "      <th>50%</th>\n",
       "      <td>72500.000000</td>\n",
       "    </tr>\n",
       "    <tr>\n",
       "      <th>75%</th>\n",
       "      <td>83750.000000</td>\n",
       "    </tr>\n",
       "    <tr>\n",
       "      <th>max</th>\n",
       "      <td>95000.000000</td>\n",
       "    </tr>\n",
       "  </tbody>\n",
       "</table>\n",
       "</div>"
      ],
      "text/plain": [
       "             Salary\n",
       "count     10.000000\n",
       "mean   71500.000000\n",
       "std    16674.997918\n",
       "min    45000.000000\n",
       "25%    61250.000000\n",
       "50%    72500.000000\n",
       "75%    83750.000000\n",
       "max    95000.000000"
      ]
     },
     "execution_count": 22,
     "metadata": {},
     "output_type": "execute_result"
    }
   ],
   "source": [
    "df.describe()"
   ]
  },
  {
   "cell_type": "code",
   "execution_count": 23,
   "id": "5ab11b17-f28f-414b-8dda-97b9540d9a62",
   "metadata": {},
   "outputs": [
    {
     "data": {
      "text/plain": [
       "Name           object\n",
       "Designation    object\n",
       "Department     object\n",
       "Salary          int64\n",
       "dtype: object"
      ]
     },
     "execution_count": 23,
     "metadata": {},
     "output_type": "execute_result"
    }
   ],
   "source": [
    "df.dtypes"
   ]
  },
  {
   "cell_type": "code",
   "execution_count": 26,
   "id": "ee1962d5-e988-40a6-8852-231b2c7f6a65",
   "metadata": {},
   "outputs": [
    {
     "data": {
      "text/html": [
       "<div>\n",
       "<style scoped>\n",
       "    .dataframe tbody tr th:only-of-type {\n",
       "        vertical-align: middle;\n",
       "    }\n",
       "\n",
       "    .dataframe tbody tr th {\n",
       "        vertical-align: top;\n",
       "    }\n",
       "\n",
       "    .dataframe thead th {\n",
       "        text-align: right;\n",
       "    }\n",
       "</style>\n",
       "<table border=\"1\" class=\"dataframe\">\n",
       "  <thead>\n",
       "    <tr style=\"text-align: right;\">\n",
       "      <th></th>\n",
       "      <th>Name</th>\n",
       "      <th>Designation</th>\n",
       "      <th>Department</th>\n",
       "      <th>Salary</th>\n",
       "    </tr>\n",
       "  </thead>\n",
       "  <tbody>\n",
       "    <tr>\n",
       "      <th>9</th>\n",
       "      <td>Kiran</td>\n",
       "      <td>AI Analyst</td>\n",
       "      <td>AI</td>\n",
       "      <td>95000</td>\n",
       "    </tr>\n",
       "    <tr>\n",
       "      <th>1</th>\n",
       "      <td>Shaziya</td>\n",
       "      <td>HR Manager</td>\n",
       "      <td>HR</td>\n",
       "      <td>50000</td>\n",
       "    </tr>\n",
       "    <tr>\n",
       "      <th>5</th>\n",
       "      <td>Imran</td>\n",
       "      <td>Web Developer</td>\n",
       "      <td>Software</td>\n",
       "      <td>75000</td>\n",
       "    </tr>\n",
       "  </tbody>\n",
       "</table>\n",
       "</div>"
      ],
      "text/plain": [
       "      Name    Designation Department  Salary\n",
       "9    Kiran     AI Analyst         AI   95000\n",
       "1  Shaziya     HR Manager         HR   50000\n",
       "5    Imran  Web Developer   Software   75000"
      ]
     },
     "execution_count": 26,
     "metadata": {},
     "output_type": "execute_result"
    }
   ],
   "source": [
    "df.sample(3)"
   ]
  },
  {
   "cell_type": "code",
   "execution_count": 25,
   "id": "ae4025c9-312a-4419-97a8-c6c9e7b5e504",
   "metadata": {},
   "outputs": [
    {
     "data": {
      "text/plain": [
       "RangeIndex(start=0, stop=10, step=1)"
      ]
     },
     "execution_count": 25,
     "metadata": {},
     "output_type": "execute_result"
    }
   ],
   "source": [
    "df.index"
   ]
  },
  {
   "cell_type": "code",
   "execution_count": 31,
   "id": "fd9c3c25-eb33-415a-bc61-2b8b5801216b",
   "metadata": {},
   "outputs": [
    {
     "name": "stdout",
     "output_type": "stream",
     "text": [
      "        Name         Designation Department  Salary\n",
      "9      Kiran          AI Analyst         AI   95000\n",
      "8  Sudarshan       App Developer   Software   90000\n",
      "7       Uday        Finance Head    Finance   85000\n",
      "6     Soumya      Data Scientist       Data   80000\n",
      "5      Imran       Web Developer   Software   75000\n",
      "4     Bhakti        Data Analyst       Data   70000\n",
      "3      Arbaz  Software Developer   Software   65000\n",
      "2     Qassim       Network Admin         IT   60000\n",
      "1    Shaziya          HR Manager         HR   50000\n",
      "0    Shafeen          IT Analyst         IT   45000\n"
     ]
    }
   ],
   "source": [
    "print(df.sort_values(by='Salary',ascending=False))"
   ]
  },
  {
   "cell_type": "code",
   "execution_count": 34,
   "id": "c3497bf7-6b1a-494c-9136-ff1ff100d782",
   "metadata": {},
   "outputs": [
    {
     "name": "stdout",
     "output_type": "stream",
     "text": [
      "Department\n",
      "Software    3\n",
      "IT          2\n",
      "Data        2\n",
      "HR          1\n",
      "Finance     1\n",
      "AI          1\n",
      "Name: count, dtype: int64\n"
     ]
    }
   ],
   "source": [
    "print(df['Department'].value_counts())"
   ]
  },
  {
   "cell_type": "code",
   "execution_count": null,
   "id": "713bb4bb-74f7-4147-8505-91a223f84924",
   "metadata": {},
   "outputs": [],
   "source": []
  }
 ],
 "metadata": {
  "kernelspec": {
   "display_name": "Python [conda env:base] *",
   "language": "python",
   "name": "conda-base-py"
  },
  "language_info": {
   "codemirror_mode": {
    "name": "ipython",
    "version": 3
   },
   "file_extension": ".py",
   "mimetype": "text/x-python",
   "name": "python",
   "nbconvert_exporter": "python",
   "pygments_lexer": "ipython3",
   "version": "3.13.5"
  }
 },
 "nbformat": 4,
 "nbformat_minor": 5
}
