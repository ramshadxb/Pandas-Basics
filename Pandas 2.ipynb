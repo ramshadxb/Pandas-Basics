{
 "cells": [
  {
   "cell_type": "code",
   "execution_count": 1,
   "id": "1390fcea-cfe9-477e-b819-d6322a841eb5",
   "metadata": {},
   "outputs": [],
   "source": [
    "import pandas as pd"
   ]
  },
  {
   "cell_type": "code",
   "execution_count": 4,
   "id": "b94a491d-5a17-4710-8f33-89b032a836df",
   "metadata": {},
   "outputs": [],
   "source": [
    "df = pd.read_csv(\"C:/Users/Ramsha Ahmed/Documents/students.csv\")"
   ]
  },
  {
   "cell_type": "code",
   "execution_count": 26,
   "id": "b90c6675-eb92-4763-9dc2-fcccb28ccfde",
   "metadata": {},
   "outputs": [
    {
     "data": {
      "text/html": [
       "<div>\n",
       "<style scoped>\n",
       "    .dataframe tbody tr th:only-of-type {\n",
       "        vertical-align: middle;\n",
       "    }\n",
       "\n",
       "    .dataframe tbody tr th {\n",
       "        vertical-align: top;\n",
       "    }\n",
       "\n",
       "    .dataframe thead th {\n",
       "        text-align: right;\n",
       "    }\n",
       "</style>\n",
       "<table border=\"1\" class=\"dataframe\">\n",
       "  <thead>\n",
       "    <tr style=\"text-align: right;\">\n",
       "      <th></th>\n",
       "      <th>StudentID</th>\n",
       "      <th>Name</th>\n",
       "      <th>Course</th>\n",
       "      <th>Marks</th>\n",
       "      <th>Age</th>\n",
       "      <th>City</th>\n",
       "    </tr>\n",
       "  </thead>\n",
       "  <tbody>\n",
       "    <tr>\n",
       "      <th>0</th>\n",
       "      <td>101</td>\n",
       "      <td>Alice</td>\n",
       "      <td>Python</td>\n",
       "      <td>85</td>\n",
       "      <td>20</td>\n",
       "      <td>New York</td>\n",
       "    </tr>\n",
       "    <tr>\n",
       "      <th>1</th>\n",
       "      <td>102</td>\n",
       "      <td>Bob</td>\n",
       "      <td>Python</td>\n",
       "      <td>67</td>\n",
       "      <td>21</td>\n",
       "      <td>Chicago</td>\n",
       "    </tr>\n",
       "    <tr>\n",
       "      <th>2</th>\n",
       "      <td>103</td>\n",
       "      <td>Charlie</td>\n",
       "      <td>SQL</td>\n",
       "      <td>74</td>\n",
       "      <td>22</td>\n",
       "      <td>San Francisco</td>\n",
       "    </tr>\n",
       "    <tr>\n",
       "      <th>3</th>\n",
       "      <td>104</td>\n",
       "      <td>Diana</td>\n",
       "      <td>Power BI</td>\n",
       "      <td>92</td>\n",
       "      <td>23</td>\n",
       "      <td>New York</td>\n",
       "    </tr>\n",
       "    <tr>\n",
       "      <th>4</th>\n",
       "      <td>105</td>\n",
       "      <td>Ethan</td>\n",
       "      <td>Python</td>\n",
       "      <td>58</td>\n",
       "      <td>20</td>\n",
       "      <td>Chicago</td>\n",
       "    </tr>\n",
       "  </tbody>\n",
       "</table>\n",
       "</div>"
      ],
      "text/plain": [
       "   StudentID     Name    Course  Marks  Age           City\n",
       "0        101    Alice    Python     85   20       New York\n",
       "1        102      Bob    Python     67   21        Chicago\n",
       "2        103  Charlie       SQL     74   22  San Francisco\n",
       "3        104    Diana  Power BI     92   23       New York\n",
       "4        105    Ethan    Python     58   20        Chicago"
      ]
     },
     "execution_count": 26,
     "metadata": {},
     "output_type": "execute_result"
    }
   ],
   "source": [
    "df.head()"
   ]
  },
  {
   "cell_type": "code",
   "execution_count": 6,
   "id": "0c2cb357-1fcc-4990-9c1e-f1ba9ba451e3",
   "metadata": {},
   "outputs": [
    {
     "data": {
      "text/html": [
       "<div>\n",
       "<style scoped>\n",
       "    .dataframe tbody tr th:only-of-type {\n",
       "        vertical-align: middle;\n",
       "    }\n",
       "\n",
       "    .dataframe tbody tr th {\n",
       "        vertical-align: top;\n",
       "    }\n",
       "\n",
       "    .dataframe thead th {\n",
       "        text-align: right;\n",
       "    }\n",
       "</style>\n",
       "<table border=\"1\" class=\"dataframe\">\n",
       "  <thead>\n",
       "    <tr style=\"text-align: right;\">\n",
       "      <th></th>\n",
       "      <th>StudentID</th>\n",
       "      <th>Name</th>\n",
       "      <th>Course</th>\n",
       "      <th>Marks</th>\n",
       "      <th>Age</th>\n",
       "      <th>City</th>\n",
       "    </tr>\n",
       "  </thead>\n",
       "  <tbody>\n",
       "    <tr>\n",
       "      <th>4</th>\n",
       "      <td>105</td>\n",
       "      <td>Ethan</td>\n",
       "      <td>Python</td>\n",
       "      <td>58</td>\n",
       "      <td>20</td>\n",
       "      <td>Chicago</td>\n",
       "    </tr>\n",
       "    <tr>\n",
       "      <th>5</th>\n",
       "      <td>106</td>\n",
       "      <td>Fiona</td>\n",
       "      <td>SQL</td>\n",
       "      <td>81</td>\n",
       "      <td>21</td>\n",
       "      <td>San Francisco</td>\n",
       "    </tr>\n",
       "  </tbody>\n",
       "</table>\n",
       "</div>"
      ],
      "text/plain": [
       "   StudentID   Name  Course  Marks  Age           City\n",
       "4        105  Ethan  Python     58   20        Chicago\n",
       "5        106  Fiona     SQL     81   21  San Francisco"
      ]
     },
     "execution_count": 6,
     "metadata": {},
     "output_type": "execute_result"
    }
   ],
   "source": [
    "df.tail(2)"
   ]
  },
  {
   "cell_type": "code",
   "execution_count": 7,
   "id": "fb90f95b-27a5-49c0-96db-b31c60783895",
   "metadata": {},
   "outputs": [
    {
     "name": "stdout",
     "output_type": "stream",
     "text": [
      "<class 'pandas.core.frame.DataFrame'>\n",
      "RangeIndex: 6 entries, 0 to 5\n",
      "Data columns (total 6 columns):\n",
      " #   Column     Non-Null Count  Dtype \n",
      "---  ------     --------------  ----- \n",
      " 0   StudentID  6 non-null      int64 \n",
      " 1   Name       6 non-null      object\n",
      " 2   Course     6 non-null      object\n",
      " 3   Marks      6 non-null      int64 \n",
      " 4   Age        6 non-null      int64 \n",
      " 5   City       6 non-null      object\n",
      "dtypes: int64(3), object(3)\n",
      "memory usage: 420.0+ bytes\n"
     ]
    }
   ],
   "source": [
    "df.info()"
   ]
  },
  {
   "cell_type": "code",
   "execution_count": 8,
   "id": "75882b9a-0534-4fdd-8996-df8bc5c45fb0",
   "metadata": {},
   "outputs": [
    {
     "data": {
      "text/html": [
       "<div>\n",
       "<style scoped>\n",
       "    .dataframe tbody tr th:only-of-type {\n",
       "        vertical-align: middle;\n",
       "    }\n",
       "\n",
       "    .dataframe tbody tr th {\n",
       "        vertical-align: top;\n",
       "    }\n",
       "\n",
       "    .dataframe thead th {\n",
       "        text-align: right;\n",
       "    }\n",
       "</style>\n",
       "<table border=\"1\" class=\"dataframe\">\n",
       "  <thead>\n",
       "    <tr style=\"text-align: right;\">\n",
       "      <th></th>\n",
       "      <th>StudentID</th>\n",
       "      <th>Marks</th>\n",
       "      <th>Age</th>\n",
       "    </tr>\n",
       "  </thead>\n",
       "  <tbody>\n",
       "    <tr>\n",
       "      <th>count</th>\n",
       "      <td>6.000000</td>\n",
       "      <td>6.000000</td>\n",
       "      <td>6.000000</td>\n",
       "    </tr>\n",
       "    <tr>\n",
       "      <th>mean</th>\n",
       "      <td>103.500000</td>\n",
       "      <td>76.166667</td>\n",
       "      <td>21.166667</td>\n",
       "    </tr>\n",
       "    <tr>\n",
       "      <th>std</th>\n",
       "      <td>1.870829</td>\n",
       "      <td>12.416387</td>\n",
       "      <td>1.169045</td>\n",
       "    </tr>\n",
       "    <tr>\n",
       "      <th>min</th>\n",
       "      <td>101.000000</td>\n",
       "      <td>58.000000</td>\n",
       "      <td>20.000000</td>\n",
       "    </tr>\n",
       "    <tr>\n",
       "      <th>25%</th>\n",
       "      <td>102.250000</td>\n",
       "      <td>68.750000</td>\n",
       "      <td>20.250000</td>\n",
       "    </tr>\n",
       "    <tr>\n",
       "      <th>50%</th>\n",
       "      <td>103.500000</td>\n",
       "      <td>77.500000</td>\n",
       "      <td>21.000000</td>\n",
       "    </tr>\n",
       "    <tr>\n",
       "      <th>75%</th>\n",
       "      <td>104.750000</td>\n",
       "      <td>84.000000</td>\n",
       "      <td>21.750000</td>\n",
       "    </tr>\n",
       "    <tr>\n",
       "      <th>max</th>\n",
       "      <td>106.000000</td>\n",
       "      <td>92.000000</td>\n",
       "      <td>23.000000</td>\n",
       "    </tr>\n",
       "  </tbody>\n",
       "</table>\n",
       "</div>"
      ],
      "text/plain": [
       "        StudentID      Marks        Age\n",
       "count    6.000000   6.000000   6.000000\n",
       "mean   103.500000  76.166667  21.166667\n",
       "std      1.870829  12.416387   1.169045\n",
       "min    101.000000  58.000000  20.000000\n",
       "25%    102.250000  68.750000  20.250000\n",
       "50%    103.500000  77.500000  21.000000\n",
       "75%    104.750000  84.000000  21.750000\n",
       "max    106.000000  92.000000  23.000000"
      ]
     },
     "execution_count": 8,
     "metadata": {},
     "output_type": "execute_result"
    }
   ],
   "source": [
    "df.describe()"
   ]
  },
  {
   "cell_type": "code",
   "execution_count": 9,
   "id": "5d90dff4-ac8b-4f2c-b911-eab6ded950bf",
   "metadata": {},
   "outputs": [
    {
     "data": {
      "text/plain": [
       "Index(['StudentID', 'Name', 'Course', 'Marks', 'Age', 'City'], dtype='object')"
      ]
     },
     "execution_count": 9,
     "metadata": {},
     "output_type": "execute_result"
    }
   ],
   "source": [
    "df.columns"
   ]
  },
  {
   "cell_type": "code",
   "execution_count": 10,
   "id": "6eaeb589-71f8-45f5-99c1-cac3948e64dd",
   "metadata": {},
   "outputs": [
    {
     "data": {
      "text/plain": [
       "StudentID     int64\n",
       "Name         object\n",
       "Course       object\n",
       "Marks         int64\n",
       "Age           int64\n",
       "City         object\n",
       "dtype: object"
      ]
     },
     "execution_count": 10,
     "metadata": {},
     "output_type": "execute_result"
    }
   ],
   "source": [
    "df.dtypes"
   ]
  },
  {
   "cell_type": "code",
   "execution_count": 11,
   "id": "6259ac60-f74e-400e-b20d-6f5175207a17",
   "metadata": {},
   "outputs": [
    {
     "data": {
      "text/plain": [
       "RangeIndex(start=0, stop=6, step=1)"
      ]
     },
     "execution_count": 11,
     "metadata": {},
     "output_type": "execute_result"
    }
   ],
   "source": [
    "df.index"
   ]
  },
  {
   "cell_type": "code",
   "execution_count": 12,
   "id": "ebbec44f-4162-4334-b6be-0f1ca55d8f1e",
   "metadata": {},
   "outputs": [
    {
     "data": {
      "text/html": [
       "<div>\n",
       "<style scoped>\n",
       "    .dataframe tbody tr th:only-of-type {\n",
       "        vertical-align: middle;\n",
       "    }\n",
       "\n",
       "    .dataframe tbody tr th {\n",
       "        vertical-align: top;\n",
       "    }\n",
       "\n",
       "    .dataframe thead th {\n",
       "        text-align: right;\n",
       "    }\n",
       "</style>\n",
       "<table border=\"1\" class=\"dataframe\">\n",
       "  <thead>\n",
       "    <tr style=\"text-align: right;\">\n",
       "      <th></th>\n",
       "      <th>StudentID</th>\n",
       "      <th>Name</th>\n",
       "      <th>Course</th>\n",
       "      <th>Marks</th>\n",
       "      <th>Age</th>\n",
       "      <th>City</th>\n",
       "    </tr>\n",
       "  </thead>\n",
       "  <tbody>\n",
       "    <tr>\n",
       "      <th>2</th>\n",
       "      <td>103</td>\n",
       "      <td>Charlie</td>\n",
       "      <td>SQL</td>\n",
       "      <td>74</td>\n",
       "      <td>22</td>\n",
       "      <td>San Francisco</td>\n",
       "    </tr>\n",
       "    <tr>\n",
       "      <th>5</th>\n",
       "      <td>106</td>\n",
       "      <td>Fiona</td>\n",
       "      <td>SQL</td>\n",
       "      <td>81</td>\n",
       "      <td>21</td>\n",
       "      <td>San Francisco</td>\n",
       "    </tr>\n",
       "  </tbody>\n",
       "</table>\n",
       "</div>"
      ],
      "text/plain": [
       "   StudentID     Name Course  Marks  Age           City\n",
       "2        103  Charlie    SQL     74   22  San Francisco\n",
       "5        106    Fiona    SQL     81   21  San Francisco"
      ]
     },
     "execution_count": 12,
     "metadata": {},
     "output_type": "execute_result"
    }
   ],
   "source": [
    "df.sample(2)"
   ]
  },
  {
   "cell_type": "code",
   "execution_count": 13,
   "id": "6bfa1370-cfa7-47ed-92de-187ecce235c3",
   "metadata": {},
   "outputs": [
    {
     "data": {
      "text/plain": [
       "(6, 6)"
      ]
     },
     "execution_count": 13,
     "metadata": {},
     "output_type": "execute_result"
    }
   ],
   "source": [
    "df.shape"
   ]
  },
  {
   "cell_type": "code",
   "execution_count": 14,
   "id": "9378c783-9f64-4b21-82f3-b71c7e313a27",
   "metadata": {},
   "outputs": [
    {
     "name": "stdout",
     "output_type": "stream",
     "text": [
      "   StudentID     Name    Course  Marks  Age           City\n",
      "3        104    Diana  Power BI     92   23       New York\n",
      "0        101    Alice    Python     85   20       New York\n",
      "5        106    Fiona       SQL     81   21  San Francisco\n",
      "2        103  Charlie       SQL     74   22  San Francisco\n",
      "1        102      Bob    Python     67   21        Chicago\n",
      "4        105    Ethan    Python     58   20        Chicago\n"
     ]
    }
   ],
   "source": [
    "print(df.sort_values(by='Marks',ascending = False))"
   ]
  },
  {
   "cell_type": "code",
   "execution_count": 15,
   "id": "c1f13c61-dc07-4b32-8919-d836373899a9",
   "metadata": {},
   "outputs": [
    {
     "name": "stdout",
     "output_type": "stream",
     "text": [
      "Course\n",
      "Python      3\n",
      "SQL         2\n",
      "Power BI    1\n",
      "Name: count, dtype: int64\n"
     ]
    }
   ],
   "source": [
    "print(df['Course'].value_counts())"
   ]
  },
  {
   "cell_type": "code",
   "execution_count": 17,
   "id": "5b695a0f-d53a-4476-8da0-c132da6e2ae7",
   "metadata": {},
   "outputs": [
    {
     "data": {
      "text/plain": [
       "0      Python\n",
       "1      Python\n",
       "2         SQL\n",
       "3    Power BI\n",
       "4      Python\n",
       "5         SQL\n",
       "Name: Course, dtype: object"
      ]
     },
     "execution_count": 17,
     "metadata": {},
     "output_type": "execute_result"
    }
   ],
   "source": [
    "df['Course']"
   ]
  },
  {
   "cell_type": "code",
   "execution_count": 25,
   "id": "ea93a53f-5ba7-4f77-afbb-9be8230743db",
   "metadata": {},
   "outputs": [
    {
     "data": {
      "text/plain": [
       "StudentID              103\n",
       "Name               Charlie\n",
       "Course                 SQL\n",
       "Marks                   74\n",
       "Age                     22\n",
       "City         San Francisco\n",
       "Name: 2, dtype: object"
      ]
     },
     "execution_count": 25,
     "metadata": {},
     "output_type": "execute_result"
    }
   ],
   "source": [
    "df.loc[2]"
   ]
  },
  {
   "cell_type": "code",
   "execution_count": 23,
   "id": "ab3cabf5-0d86-4852-ba6d-8a46f13e0661",
   "metadata": {},
   "outputs": [
    {
     "data": {
      "text/plain": [
       "'SQL'"
      ]
     },
     "execution_count": 23,
     "metadata": {},
     "output_type": "execute_result"
    }
   ],
   "source": [
    "df.loc[2,'Course']"
   ]
  },
  {
   "cell_type": "code",
   "execution_count": 38,
   "id": "11de4f76-3c45-4a1d-b1fc-4d57113167b4",
   "metadata": {},
   "outputs": [
    {
     "data": {
      "text/plain": [
       "'SQL'"
      ]
     },
     "execution_count": 38,
     "metadata": {},
     "output_type": "execute_result"
    }
   ],
   "source": [
    "df.iloc[2,2]"
   ]
  },
  {
   "cell_type": "code",
   "execution_count": 39,
   "id": "4e159cbe-1b3b-4d9d-8f9f-7cb87466debd",
   "metadata": {},
   "outputs": [
    {
     "data": {
      "text/plain": [
       "'San Francisco'"
      ]
     },
     "execution_count": 39,
     "metadata": {},
     "output_type": "execute_result"
    }
   ],
   "source": [
    "#Access the third row and last column using .iloc\n",
    "\n",
    "df.iloc[2,5]"
   ]
  },
  {
   "cell_type": "code",
   "execution_count": 41,
   "id": "1eba698c-a581-4b35-a1ca-b2dfd2b8a723",
   "metadata": {},
   "outputs": [
    {
     "data": {
      "text/plain": [
       "'SQL'"
      ]
     },
     "execution_count": 41,
     "metadata": {},
     "output_type": "execute_result"
    }
   ],
   "source": [
    "#Access the last row and third column using .iloc\n",
    "\n",
    "df.iloc[5,2]"
   ]
  },
  {
   "cell_type": "code",
   "execution_count": 44,
   "id": "cac56fc4-5e07-42cb-b25e-e1b5cde58785",
   "metadata": {},
   "outputs": [
    {
     "data": {
      "text/plain": [
       "np.int64(74)"
      ]
     },
     "execution_count": 44,
     "metadata": {},
     "output_type": "execute_result"
    }
   ],
   "source": [
    "#Access the third row using .loc\n",
    "\n",
    "df.loc[2,'Marks']"
   ]
  },
  {
   "cell_type": "code",
   "execution_count": 45,
   "id": "9421450d-d86f-4ba5-9d81-3e855598f094",
   "metadata": {},
   "outputs": [
    {
     "data": {
      "text/plain": [
       "0         New York\n",
       "1          Chicago\n",
       "2    San Francisco\n",
       "3         New York\n",
       "4          Chicago\n",
       "5    San Francisco\n",
       "Name: City, dtype: object"
      ]
     },
     "execution_count": 45,
     "metadata": {},
     "output_type": "execute_result"
    }
   ],
   "source": [
    "df['City']"
   ]
  },
  {
   "cell_type": "code",
   "execution_count": 48,
   "id": "4963d84b-f76b-48e3-9e2e-4505c4dd956b",
   "metadata": {},
   "outputs": [
    {
     "name": "stdout",
     "output_type": "stream",
     "text": [
      "   StudentID   Name    Course  Marks  Age           City\n",
      "0        101  Alice    Python     85   20       New York\n",
      "3        104  Diana  Power BI     92   23       New York\n",
      "5        106  Fiona       SQL     81   21  San Francisco\n"
     ]
    }
   ],
   "source": [
    "print(df[df['Marks'] > 80])"
   ]
  },
  {
   "cell_type": "code",
   "execution_count": 52,
   "id": "e0262661-146a-4b5f-8c63-21bf0de880a2",
   "metadata": {},
   "outputs": [
    {
     "name": "stdout",
     "output_type": "stream",
     "text": [
      "   StudentID     Name    Course  Marks  Age           City\n",
      "1        102      Bob    Python     67   21        Chicago\n",
      "2        103  Charlie       SQL     74   22  San Francisco\n",
      "3        104    Diana  Power BI     92   23       New York\n",
      "5        106    Fiona       SQL     81   21  San Francisco\n"
     ]
    }
   ],
   "source": [
    "print(df[df['Age'] > 20])"
   ]
  },
  {
   "cell_type": "code",
   "execution_count": 53,
   "id": "f7892623-2a5c-4ea6-8738-cd4ab270906b",
   "metadata": {},
   "outputs": [
    {
     "name": "stdout",
     "output_type": "stream",
     "text": [
      "   StudentID   Name    Course  Marks  Age      City\n",
      "3        104  Diana  Power BI     92   23  New York\n"
     ]
    }
   ],
   "source": [
    "print(df[(df['Marks'] > 85) & (df['Name'] != 'Bob')])"
   ]
  },
  {
   "cell_type": "code",
   "execution_count": 54,
   "id": "e00a08d3-b9ba-40f3-bff8-2ef4b8d58d1f",
   "metadata": {},
   "outputs": [
    {
     "name": "stdout",
     "output_type": "stream",
     "text": [
      "   StudentID   Name  Course  Marks  Age     City\n",
      "4        105  Ethan  Python     58   20  Chicago\n"
     ]
    }
   ],
   "source": [
    "print(df[(df['Marks'] < 60) & (df['City'] != 'San Francisco')])"
   ]
  },
  {
   "cell_type": "code",
   "execution_count": 58,
   "id": "84aebe03-3018-4f37-be8d-33412ad49230",
   "metadata": {},
   "outputs": [
    {
     "name": "stdout",
     "output_type": "stream",
     "text": [
      "3    Diana\n",
      "Name: Name, dtype: object\n"
     ]
    }
   ],
   "source": [
    "print(df[df['Marks'] > 90]['Name'])"
   ]
  },
  {
   "cell_type": "code",
   "execution_count": 59,
   "id": "465a181d-ebe6-4a9f-858a-b2ad358d8f37",
   "metadata": {},
   "outputs": [
    {
     "name": "stdout",
     "output_type": "stream",
     "text": [
      "Empty DataFrame\n",
      "Columns: [StudentID, Name, Course, Marks, Age, City]\n",
      "Index: []\n"
     ]
    }
   ],
   "source": [
    "# Use conditional statements to filter age of students lesser than 21 and not taking python\n",
    "\n",
    "print(df[(df['Age'] < 21) & (df['Course'] != 'Python')])"
   ]
  },
  {
   "cell_type": "code",
   "execution_count": null,
   "id": "0a2a8b9a-96c7-4ba7-9e1a-4cb77289795c",
   "metadata": {},
   "outputs": [],
   "source": []
  }
 ],
 "metadata": {
  "kernelspec": {
   "display_name": "Python [conda env:base] *",
   "language": "python",
   "name": "conda-base-py"
  },
  "language_info": {
   "codemirror_mode": {
    "name": "ipython",
    "version": 3
   },
   "file_extension": ".py",
   "mimetype": "text/x-python",
   "name": "python",
   "nbconvert_exporter": "python",
   "pygments_lexer": "ipython3",
   "version": "3.13.5"
  }
 },
 "nbformat": 4,
 "nbformat_minor": 5
}
